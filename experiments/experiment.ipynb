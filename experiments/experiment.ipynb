{
 "cells": [
  {
   "attachments": {},
   "cell_type": "markdown",
   "metadata": {},
   "source": [
    "# Prevendo a renda\n",
    "\n",
    "O dataset [Adult Census Income](https://archive.ics.uci.edu/ml/datasets/Adult) é um conjunto de dados público do censo norte-americano de 1994 muito utilizado para estudo de modelos de machine learning.\n",
    "\n",
    "Esse conjunto de dados possui informações como educação, sexo, país de origem, idade e etc. A tarefa consiste em prever segundo as características de um indivíduo se ele possui uma renda anual maior que $50.000 ou menor que \n",
    "$50.000.\n",
    "\n",
    "o modelo aqui desenvolvido não têm a pretensão de obter a maior assertividade possível e nem incentivamos a utilização do modelo para qualquer outro propósito além de estudo. O modelo aqui desenvolvido serve apenas para ilustrar como testar um modelo de machine learning."
   ]
  },
  {
   "cell_type": "code",
   "execution_count": 1,
   "metadata": {},
   "outputs": [],
   "source": [
    "from pathlib import Path\n",
    "import joblib\n",
    "import pandas as pd\n",
    "from sklearn.model_selection import GridSearchCV\n",
    "from sklearn.ensemble import RandomForestClassifier\n",
    "from sklearn.metrics import classification_report, roc_auc_score"
   ]
  },
  {
   "cell_type": "code",
   "execution_count": 2,
   "metadata": {},
   "outputs": [
    {
     "data": {
      "text/html": [
       "<div>\n",
       "<style scoped>\n",
       "    .dataframe tbody tr th:only-of-type {\n",
       "        vertical-align: middle;\n",
       "    }\n",
       "\n",
       "    .dataframe tbody tr th {\n",
       "        vertical-align: top;\n",
       "    }\n",
       "\n",
       "    .dataframe thead th {\n",
       "        text-align: right;\n",
       "    }\n",
       "</style>\n",
       "<table border=\"1\" class=\"dataframe\">\n",
       "  <thead>\n",
       "    <tr style=\"text-align: right;\">\n",
       "      <th></th>\n",
       "      <th>age</th>\n",
       "      <th>workclass</th>\n",
       "      <th>fnlwgt</th>\n",
       "      <th>education</th>\n",
       "      <th>education_num</th>\n",
       "      <th>marital_status</th>\n",
       "      <th>occupation</th>\n",
       "      <th>relationship</th>\n",
       "      <th>race</th>\n",
       "      <th>sex</th>\n",
       "      <th>capital_gain</th>\n",
       "      <th>capital_loss</th>\n",
       "      <th>hours_per_week</th>\n",
       "      <th>native_country</th>\n",
       "      <th>income</th>\n",
       "    </tr>\n",
       "  </thead>\n",
       "  <tbody>\n",
       "    <tr>\n",
       "      <th>0</th>\n",
       "      <td>39</td>\n",
       "      <td>State-gov</td>\n",
       "      <td>77516</td>\n",
       "      <td>Bachelors</td>\n",
       "      <td>13</td>\n",
       "      <td>Never-married</td>\n",
       "      <td>Adm-clerical</td>\n",
       "      <td>Not-in-family</td>\n",
       "      <td>White</td>\n",
       "      <td>Male</td>\n",
       "      <td>2174</td>\n",
       "      <td>0</td>\n",
       "      <td>40</td>\n",
       "      <td>United-States</td>\n",
       "      <td>&lt;=50K</td>\n",
       "    </tr>\n",
       "    <tr>\n",
       "      <th>1</th>\n",
       "      <td>50</td>\n",
       "      <td>Self-emp-not-inc</td>\n",
       "      <td>83311</td>\n",
       "      <td>Bachelors</td>\n",
       "      <td>13</td>\n",
       "      <td>Married-civ-spouse</td>\n",
       "      <td>Exec-managerial</td>\n",
       "      <td>Husband</td>\n",
       "      <td>White</td>\n",
       "      <td>Male</td>\n",
       "      <td>0</td>\n",
       "      <td>0</td>\n",
       "      <td>13</td>\n",
       "      <td>United-States</td>\n",
       "      <td>&lt;=50K</td>\n",
       "    </tr>\n",
       "    <tr>\n",
       "      <th>2</th>\n",
       "      <td>38</td>\n",
       "      <td>Private</td>\n",
       "      <td>215646</td>\n",
       "      <td>HS-grad</td>\n",
       "      <td>9</td>\n",
       "      <td>Divorced</td>\n",
       "      <td>Handlers-cleaners</td>\n",
       "      <td>Not-in-family</td>\n",
       "      <td>White</td>\n",
       "      <td>Male</td>\n",
       "      <td>0</td>\n",
       "      <td>0</td>\n",
       "      <td>40</td>\n",
       "      <td>United-States</td>\n",
       "      <td>&lt;=50K</td>\n",
       "    </tr>\n",
       "    <tr>\n",
       "      <th>3</th>\n",
       "      <td>53</td>\n",
       "      <td>Private</td>\n",
       "      <td>234721</td>\n",
       "      <td>11th</td>\n",
       "      <td>7</td>\n",
       "      <td>Married-civ-spouse</td>\n",
       "      <td>Handlers-cleaners</td>\n",
       "      <td>Husband</td>\n",
       "      <td>Black</td>\n",
       "      <td>Male</td>\n",
       "      <td>0</td>\n",
       "      <td>0</td>\n",
       "      <td>40</td>\n",
       "      <td>United-States</td>\n",
       "      <td>&lt;=50K</td>\n",
       "    </tr>\n",
       "    <tr>\n",
       "      <th>4</th>\n",
       "      <td>28</td>\n",
       "      <td>Private</td>\n",
       "      <td>338409</td>\n",
       "      <td>Bachelors</td>\n",
       "      <td>13</td>\n",
       "      <td>Married-civ-spouse</td>\n",
       "      <td>Prof-specialty</td>\n",
       "      <td>Wife</td>\n",
       "      <td>Black</td>\n",
       "      <td>Female</td>\n",
       "      <td>0</td>\n",
       "      <td>0</td>\n",
       "      <td>40</td>\n",
       "      <td>Cuba</td>\n",
       "      <td>&lt;=50K</td>\n",
       "    </tr>\n",
       "  </tbody>\n",
       "</table>\n",
       "</div>"
      ],
      "text/plain": [
       "   age          workclass  fnlwgt   education  education_num  \\\n",
       "0   39          State-gov   77516   Bachelors             13   \n",
       "1   50   Self-emp-not-inc   83311   Bachelors             13   \n",
       "2   38            Private  215646     HS-grad              9   \n",
       "3   53            Private  234721        11th              7   \n",
       "4   28            Private  338409   Bachelors             13   \n",
       "\n",
       "        marital_status          occupation    relationship    race      sex  \\\n",
       "0        Never-married        Adm-clerical   Not-in-family   White     Male   \n",
       "1   Married-civ-spouse     Exec-managerial         Husband   White     Male   \n",
       "2             Divorced   Handlers-cleaners   Not-in-family   White     Male   \n",
       "3   Married-civ-spouse   Handlers-cleaners         Husband   Black     Male   \n",
       "4   Married-civ-spouse      Prof-specialty            Wife   Black   Female   \n",
       "\n",
       "   capital_gain  capital_loss  hours_per_week  native_country  income  \n",
       "0          2174             0              40   United-States   <=50K  \n",
       "1             0             0              13   United-States   <=50K  \n",
       "2             0             0              40   United-States   <=50K  \n",
       "3             0             0              40   United-States   <=50K  \n",
       "4             0             0              40            Cuba   <=50K  "
      ]
     },
     "execution_count": 2,
     "metadata": {},
     "output_type": "execute_result"
    }
   ],
   "source": [
    "columns = ['age', 'workclass', 'fnlwgt', 'education', 'education_num', 'marital_status', \n",
    "            'occupation', 'relationship', 'race', 'sex', 'capital_gain', 'capital_loss', \n",
    "            'hours_per_week', 'native_country', 'income']\n",
    "dataset_train = pd.read_csv(\"https://archive.ics.uci.edu/ml/machine-learning-databases/adult/adult.data\", \n",
    "                            header=None, names=columns)\n",
    "dataset_test = pd.read_csv(\"https://archive.ics.uci.edu/ml/machine-learning-databases/adult/adult.test\", \n",
    "                            header=None, names=columns, skiprows=1)\n",
    "dataset_train.head()"
   ]
  },
  {
   "cell_type": "code",
   "execution_count": 3,
   "metadata": {},
   "outputs": [
    {
     "data": {
      "text/plain": [
       "(32561, 15)"
      ]
     },
     "execution_count": 3,
     "metadata": {},
     "output_type": "execute_result"
    }
   ],
   "source": [
    "dataset_train.shape"
   ]
  },
  {
   "cell_type": "code",
   "execution_count": 4,
   "metadata": {},
   "outputs": [
    {
     "data": {
      "text/plain": [
       "(16281, 15)"
      ]
     },
     "execution_count": 4,
     "metadata": {},
     "output_type": "execute_result"
    }
   ],
   "source": [
    "dataset_test.shape"
   ]
  },
  {
   "cell_type": "markdown",
   "metadata": {},
   "source": [
    "## Pré-processamento"
   ]
  },
  {
   "cell_type": "code",
   "execution_count": 5,
   "metadata": {},
   "outputs": [
    {
     "data": {
      "text/html": [
       "<div>\n",
       "<style scoped>\n",
       "    .dataframe tbody tr th:only-of-type {\n",
       "        vertical-align: middle;\n",
       "    }\n",
       "\n",
       "    .dataframe tbody tr th {\n",
       "        vertical-align: top;\n",
       "    }\n",
       "\n",
       "    .dataframe thead th {\n",
       "        text-align: right;\n",
       "    }\n",
       "</style>\n",
       "<table border=\"1\" class=\"dataframe\">\n",
       "  <thead>\n",
       "    <tr style=\"text-align: right;\">\n",
       "      <th></th>\n",
       "      <th>native_usa</th>\n",
       "      <th>native_latin_america</th>\n",
       "      <th>native_europe</th>\n",
       "      <th>native_asia</th>\n",
       "      <th>is_male</th>\n",
       "      <th>is_married</th>\n",
       "      <th>hours_per_week</th>\n",
       "      <th>age</th>\n",
       "      <th>education_num</th>\n",
       "      <th>capital_gain</th>\n",
       "      <th>capital_loss</th>\n",
       "    </tr>\n",
       "  </thead>\n",
       "  <tbody>\n",
       "    <tr>\n",
       "      <th>0</th>\n",
       "      <td>1</td>\n",
       "      <td>0</td>\n",
       "      <td>0</td>\n",
       "      <td>0</td>\n",
       "      <td>1</td>\n",
       "      <td>0</td>\n",
       "      <td>40</td>\n",
       "      <td>39</td>\n",
       "      <td>13</td>\n",
       "      <td>2174</td>\n",
       "      <td>0</td>\n",
       "    </tr>\n",
       "    <tr>\n",
       "      <th>1</th>\n",
       "      <td>1</td>\n",
       "      <td>0</td>\n",
       "      <td>0</td>\n",
       "      <td>0</td>\n",
       "      <td>1</td>\n",
       "      <td>1</td>\n",
       "      <td>13</td>\n",
       "      <td>50</td>\n",
       "      <td>13</td>\n",
       "      <td>0</td>\n",
       "      <td>0</td>\n",
       "    </tr>\n",
       "    <tr>\n",
       "      <th>2</th>\n",
       "      <td>1</td>\n",
       "      <td>0</td>\n",
       "      <td>0</td>\n",
       "      <td>0</td>\n",
       "      <td>1</td>\n",
       "      <td>0</td>\n",
       "      <td>40</td>\n",
       "      <td>38</td>\n",
       "      <td>9</td>\n",
       "      <td>0</td>\n",
       "      <td>0</td>\n",
       "    </tr>\n",
       "    <tr>\n",
       "      <th>3</th>\n",
       "      <td>1</td>\n",
       "      <td>0</td>\n",
       "      <td>0</td>\n",
       "      <td>0</td>\n",
       "      <td>1</td>\n",
       "      <td>1</td>\n",
       "      <td>40</td>\n",
       "      <td>53</td>\n",
       "      <td>7</td>\n",
       "      <td>0</td>\n",
       "      <td>0</td>\n",
       "    </tr>\n",
       "    <tr>\n",
       "      <th>4</th>\n",
       "      <td>0</td>\n",
       "      <td>1</td>\n",
       "      <td>0</td>\n",
       "      <td>0</td>\n",
       "      <td>0</td>\n",
       "      <td>1</td>\n",
       "      <td>40</td>\n",
       "      <td>28</td>\n",
       "      <td>13</td>\n",
       "      <td>0</td>\n",
       "      <td>0</td>\n",
       "    </tr>\n",
       "  </tbody>\n",
       "</table>\n",
       "</div>"
      ],
      "text/plain": [
       "   native_usa  native_latin_america  native_europe  native_asia  is_male  \\\n",
       "0           1                     0              0            0        1   \n",
       "1           1                     0              0            0        1   \n",
       "2           1                     0              0            0        1   \n",
       "3           1                     0              0            0        1   \n",
       "4           0                     1              0            0        0   \n",
       "\n",
       "   is_married  hours_per_week  age  education_num  capital_gain  capital_loss  \n",
       "0           0              40   39             13          2174             0  \n",
       "1           1              13   50             13             0             0  \n",
       "2           0              40   38              9             0             0  \n",
       "3           1              40   53              7             0             0  \n",
       "4           1              40   28             13             0             0  "
      ]
     },
     "execution_count": 5,
     "metadata": {},
     "output_type": "execute_result"
    }
   ],
   "source": [
    "# input_columns = \n",
    "latin_american_countries = [' Cuba', ' Jamaica', ' Mexico',\n",
    "       ' Puerto-Rico', ' Honduras', ' Haiti', \n",
    "       ' El-Salvador', ' Guatemala', ' Nicaragua',\n",
    "       ' Columbia', ' Ecuador', ' Peru', ' Dominican-Republic']\n",
    "\n",
    "european_countries = [' England', ' Canada',\n",
    "       ' Germany', ' Italy', ' Poland',' Portugal', \n",
    "       ' France', ' Yugoslavia', ' Scotland',\n",
    "       ' Greece', ' Ireland', ' Hungary', ' Holand-Netherlands']\n",
    "\n",
    "asian_countries = [' India', ' Iran', ' Philippines', \n",
    "       ' Cambodia', ' Thailand', ' Laos',\n",
    "       ' Taiwan', ' China', ' Japan', ' Yugoslavia', ' Vietnam', ' Hong']\n",
    "\n",
    "input_columns = ['native_usa', 'native_latin_america', 'native_europe', 'native_asia',\n",
    "                'is_male', 'is_married', 'hours_per_week', 'age', 'education_num',\n",
    "                'capital_gain', 'capital_loss']\n",
    "X_train = (\n",
    "    dataset_train.assign(native_usa=lambda _df: (_df['native_country']==' United-States').astype(int),\n",
    "                            native_latin_america=lambda _df: (_df['native_country'].isin(latin_american_countries)).astype(int),\n",
    "                            native_europe=lambda _df: (_df['native_country'].isin(european_countries)).astype(int),\n",
    "                            native_asia=lambda _df: (_df['native_country'].isin(asian_countries)).astype(int))\n",
    "                     .assign(is_married=lambda _df: _df['marital_status'].fillna('?').str.startswith(' Married').astype(int))\n",
    "                     .assign(is_male=lambda _df: (_df['sex'] == \" Male\").astype(int))\n",
    "                     .loc[:,input_columns]\n",
    ")\n",
    "\n",
    "y_train = (\n",
    "    dataset_train['income'].dropna()\n",
    "                            .map({' <=50K': 0, ' >50K': 1, ' <=50K.': 0, ' >50K.': 1})\n",
    "                            .astype(int)\n",
    "                            .rename(\"income>50k\")\n",
    ")\n",
    "\n",
    "X_test = (\n",
    "    dataset_test.assign(native_usa=lambda _df: (_df['native_country']==' United-States').astype(int),\n",
    "                            native_latin_america=lambda _df: (_df['native_country'].isin(latin_american_countries)).astype(int),\n",
    "                            native_europe=lambda _df: (_df['native_country'].isin(european_countries)).astype(int),\n",
    "                            native_asia=lambda _df: (_df['native_country'].isin(asian_countries)).astype(int))\n",
    "                     .assign(is_married=lambda _df: _df['marital_status'].str.startswith(' Married').astype(int))\n",
    "                     .assign(is_male=lambda _df: (_df['sex'] == \" Male\").astype(int))\n",
    "                     .loc[:,input_columns]\n",
    ")\n",
    "\n",
    "y_test = (\n",
    "    dataset_test['income'].dropna()\n",
    "                            .map({' <=50K': 0, ' >50K': 1, ' <=50K.': 0, ' >50K.': 1})\n",
    "                            .astype(int)\n",
    "                            .rename(\"income>50k\")\n",
    ")\n",
    "\n",
    "X_train.head()"
   ]
  },
  {
   "cell_type": "code",
   "execution_count": 6,
   "metadata": {},
   "outputs": [
    {
     "name": "stdout",
     "output_type": "stream",
     "text": [
      "X_train shape: (32561, 11)\n",
      "X_test shape: (16281, 11)\n",
      "\n",
      "y_train (% de positivos): 24.08 %\n",
      "y_test (% de positivos): 23.62 %\n"
     ]
    }
   ],
   "source": [
    "print(f\"X_train shape: {X_train.shape}\")\n",
    "print(f\"X_test shape: {X_test.shape}\")\n",
    "\n",
    "print(f\"\\ny_train (% de positivos): {y_train.mean()*100:.2f} %\")\n",
    "print(f\"y_test (% de positivos): {y_test.mean()*100:.2f} %\")"
   ]
  },
  {
   "cell_type": "code",
   "execution_count": 7,
   "metadata": {},
   "outputs": [
    {
     "name": "stdout",
     "output_type": "stream",
     "text": [
      "Fitting 5 folds for each of 80 candidates, totalling 400 fits\n"
     ]
    },
    {
     "data": {
      "text/plain": [
       "GridSearchCV(cv=5, estimator=RandomForestClassifier(random_state=42), n_jobs=-1,\n",
       "             param_grid={'max_depth': [5, 6, 7, 8],\n",
       "                         'min_samples_leaf': [10, 20, 30, 40, 50],\n",
       "                         'n_estimators': [60, 80, 100, 120]},\n",
       "             scoring='roc_auc', verbose=3)"
      ]
     },
     "execution_count": 7,
     "metadata": {},
     "output_type": "execute_result"
    }
   ],
   "source": [
    "RANDOM_STATE = 42\n",
    "\n",
    "params = {\n",
    "    'n_estimators': [60, 80, 100, 120],\n",
    "    'max_depth': [5, 6, 7, 8],\n",
    "    'min_samples_leaf': [10, 20, 30, 40, 50]\n",
    "}\n",
    "\n",
    "rf = RandomForestClassifier(random_state=RANDOM_STATE)\n",
    "\n",
    "gs = GridSearchCV(rf, param_grid=params, scoring='roc_auc', n_jobs=-1, cv=5, verbose=3)\n",
    "gs.fit(X_train, y_train)\n"
   ]
  },
  {
   "cell_type": "code",
   "execution_count": 8,
   "metadata": {},
   "outputs": [
    {
     "data": {
      "text/plain": [
       "RandomForestClassifier(max_depth=8, min_samples_leaf=10, random_state=42)"
      ]
     },
     "execution_count": 8,
     "metadata": {},
     "output_type": "execute_result"
    }
   ],
   "source": [
    "best_rf = gs.best_estimator_\n",
    "best_rf"
   ]
  },
  {
   "cell_type": "code",
   "execution_count": 9,
   "metadata": {},
   "outputs": [
    {
     "data": {
      "text/plain": [
       "0.9091742074898939"
      ]
     },
     "execution_count": 9,
     "metadata": {},
     "output_type": "execute_result"
    }
   ],
   "source": [
    "gs.best_score_"
   ]
  },
  {
   "cell_type": "code",
   "execution_count": 10,
   "metadata": {},
   "outputs": [
    {
     "data": {
      "text/html": [
       "<div>\n",
       "<style scoped>\n",
       "    .dataframe tbody tr th:only-of-type {\n",
       "        vertical-align: middle;\n",
       "    }\n",
       "\n",
       "    .dataframe tbody tr th {\n",
       "        vertical-align: top;\n",
       "    }\n",
       "\n",
       "    .dataframe thead th {\n",
       "        text-align: right;\n",
       "    }\n",
       "</style>\n",
       "<table border=\"1\" class=\"dataframe\">\n",
       "  <thead>\n",
       "    <tr style=\"text-align: right;\">\n",
       "      <th></th>\n",
       "      <th>mean_fit_time</th>\n",
       "      <th>std_fit_time</th>\n",
       "      <th>mean_score_time</th>\n",
       "      <th>std_score_time</th>\n",
       "      <th>param_max_depth</th>\n",
       "      <th>param_min_samples_leaf</th>\n",
       "      <th>param_n_estimators</th>\n",
       "      <th>params</th>\n",
       "      <th>split0_test_score</th>\n",
       "      <th>split1_test_score</th>\n",
       "      <th>split2_test_score</th>\n",
       "      <th>split3_test_score</th>\n",
       "      <th>split4_test_score</th>\n",
       "      <th>mean_test_score</th>\n",
       "      <th>std_test_score</th>\n",
       "      <th>rank_test_score</th>\n",
       "    </tr>\n",
       "  </thead>\n",
       "  <tbody>\n",
       "    <tr>\n",
       "      <th>62</th>\n",
       "      <td>2.334368</td>\n",
       "      <td>0.146033</td>\n",
       "      <td>0.151308</td>\n",
       "      <td>0.006590</td>\n",
       "      <td>8</td>\n",
       "      <td>10</td>\n",
       "      <td>100</td>\n",
       "      <td>{'max_depth': 8, 'min_samples_leaf': 10, 'n_es...</td>\n",
       "      <td>0.905524</td>\n",
       "      <td>0.906158</td>\n",
       "      <td>0.911717</td>\n",
       "      <td>0.910583</td>\n",
       "      <td>0.911889</td>\n",
       "      <td>0.909174</td>\n",
       "      <td>0.002766</td>\n",
       "      <td>1</td>\n",
       "    </tr>\n",
       "    <tr>\n",
       "      <th>63</th>\n",
       "      <td>2.847383</td>\n",
       "      <td>0.304467</td>\n",
       "      <td>0.177938</td>\n",
       "      <td>0.016454</td>\n",
       "      <td>8</td>\n",
       "      <td>10</td>\n",
       "      <td>120</td>\n",
       "      <td>{'max_depth': 8, 'min_samples_leaf': 10, 'n_es...</td>\n",
       "      <td>0.905317</td>\n",
       "      <td>0.905902</td>\n",
       "      <td>0.911882</td>\n",
       "      <td>0.910706</td>\n",
       "      <td>0.911839</td>\n",
       "      <td>0.909129</td>\n",
       "      <td>0.002911</td>\n",
       "      <td>2</td>\n",
       "    </tr>\n",
       "    <tr>\n",
       "      <th>61</th>\n",
       "      <td>1.967010</td>\n",
       "      <td>0.231300</td>\n",
       "      <td>0.123312</td>\n",
       "      <td>0.007473</td>\n",
       "      <td>8</td>\n",
       "      <td>10</td>\n",
       "      <td>80</td>\n",
       "      <td>{'max_depth': 8, 'min_samples_leaf': 10, 'n_es...</td>\n",
       "      <td>0.905432</td>\n",
       "      <td>0.906058</td>\n",
       "      <td>0.911683</td>\n",
       "      <td>0.910380</td>\n",
       "      <td>0.911630</td>\n",
       "      <td>0.909036</td>\n",
       "      <td>0.002735</td>\n",
       "      <td>3</td>\n",
       "    </tr>\n",
       "    <tr>\n",
       "      <th>60</th>\n",
       "      <td>1.440918</td>\n",
       "      <td>0.091439</td>\n",
       "      <td>0.098033</td>\n",
       "      <td>0.014043</td>\n",
       "      <td>8</td>\n",
       "      <td>10</td>\n",
       "      <td>60</td>\n",
       "      <td>{'max_depth': 8, 'min_samples_leaf': 10, 'n_es...</td>\n",
       "      <td>0.905579</td>\n",
       "      <td>0.905961</td>\n",
       "      <td>0.911286</td>\n",
       "      <td>0.910290</td>\n",
       "      <td>0.911411</td>\n",
       "      <td>0.908905</td>\n",
       "      <td>0.002592</td>\n",
       "      <td>4</td>\n",
       "    </tr>\n",
       "    <tr>\n",
       "      <th>67</th>\n",
       "      <td>2.662778</td>\n",
       "      <td>0.045478</td>\n",
       "      <td>0.167609</td>\n",
       "      <td>0.009838</td>\n",
       "      <td>8</td>\n",
       "      <td>20</td>\n",
       "      <td>120</td>\n",
       "      <td>{'max_depth': 8, 'min_samples_leaf': 20, 'n_es...</td>\n",
       "      <td>0.904365</td>\n",
       "      <td>0.903958</td>\n",
       "      <td>0.911039</td>\n",
       "      <td>0.908755</td>\n",
       "      <td>0.911295</td>\n",
       "      <td>0.907882</td>\n",
       "      <td>0.003167</td>\n",
       "      <td>5</td>\n",
       "    </tr>\n",
       "  </tbody>\n",
       "</table>\n",
       "</div>"
      ],
      "text/plain": [
       "    mean_fit_time  std_fit_time  mean_score_time  std_score_time  \\\n",
       "62       2.334368      0.146033         0.151308        0.006590   \n",
       "63       2.847383      0.304467         0.177938        0.016454   \n",
       "61       1.967010      0.231300         0.123312        0.007473   \n",
       "60       1.440918      0.091439         0.098033        0.014043   \n",
       "67       2.662778      0.045478         0.167609        0.009838   \n",
       "\n",
       "   param_max_depth param_min_samples_leaf param_n_estimators  \\\n",
       "62               8                     10                100   \n",
       "63               8                     10                120   \n",
       "61               8                     10                 80   \n",
       "60               8                     10                 60   \n",
       "67               8                     20                120   \n",
       "\n",
       "                                               params  split0_test_score  \\\n",
       "62  {'max_depth': 8, 'min_samples_leaf': 10, 'n_es...           0.905524   \n",
       "63  {'max_depth': 8, 'min_samples_leaf': 10, 'n_es...           0.905317   \n",
       "61  {'max_depth': 8, 'min_samples_leaf': 10, 'n_es...           0.905432   \n",
       "60  {'max_depth': 8, 'min_samples_leaf': 10, 'n_es...           0.905579   \n",
       "67  {'max_depth': 8, 'min_samples_leaf': 20, 'n_es...           0.904365   \n",
       "\n",
       "    split1_test_score  split2_test_score  split3_test_score  \\\n",
       "62           0.906158           0.911717           0.910583   \n",
       "63           0.905902           0.911882           0.910706   \n",
       "61           0.906058           0.911683           0.910380   \n",
       "60           0.905961           0.911286           0.910290   \n",
       "67           0.903958           0.911039           0.908755   \n",
       "\n",
       "    split4_test_score  mean_test_score  std_test_score  rank_test_score  \n",
       "62           0.911889         0.909174        0.002766                1  \n",
       "63           0.911839         0.909129        0.002911                2  \n",
       "61           0.911630         0.909036        0.002735                3  \n",
       "60           0.911411         0.908905        0.002592                4  \n",
       "67           0.911295         0.907882        0.003167                5  "
      ]
     },
     "execution_count": 10,
     "metadata": {},
     "output_type": "execute_result"
    }
   ],
   "source": [
    "pd.DataFrame(gs.cv_results_).sort_values('rank_test_score', ascending=True).head()"
   ]
  },
  {
   "attachments": {},
   "cell_type": "markdown",
   "metadata": {},
   "source": [
    "## Avaliando Modelo"
   ]
  },
  {
   "cell_type": "code",
   "execution_count": 11,
   "metadata": {},
   "outputs": [],
   "source": [
    "pred_train = best_rf.predict(X_train)\n",
    "proba_train = best_rf.predict_proba(X_train)[:,1]\n",
    "\n",
    "pred_test = best_rf.predict(X_test)\n",
    "proba_test = best_rf.predict_proba(X_test)[:,1]"
   ]
  },
  {
   "attachments": {},
   "cell_type": "markdown",
   "metadata": {},
   "source": [
    "### Treino\n"
   ]
  },
  {
   "cell_type": "code",
   "execution_count": 12,
   "metadata": {},
   "outputs": [
    {
     "name": "stdout",
     "output_type": "stream",
     "text": [
      "ROC-AUC: 0.9135\n",
      "              precision    recall  f1-score   support\n",
      "\n",
      "           0       0.87      0.96      0.91     24720\n",
      "           1       0.80      0.54      0.64      7841\n",
      "\n",
      "    accuracy                           0.86     32561\n",
      "   macro avg       0.84      0.75      0.78     32561\n",
      "weighted avg       0.85      0.86      0.85     32561\n",
      "\n"
     ]
    }
   ],
   "source": [
    "print(f\"ROC-AUC: {roc_auc_score(y_train, proba_train):.4f}\")\n",
    "print(classification_report(y_train, pred_train))"
   ]
  },
  {
   "attachments": {},
   "cell_type": "markdown",
   "metadata": {},
   "source": [
    "### Teste"
   ]
  },
  {
   "cell_type": "code",
   "execution_count": 13,
   "metadata": {},
   "outputs": [
    {
     "name": "stdout",
     "output_type": "stream",
     "text": [
      "ROC-AUC: 0.9086\n",
      "              precision    recall  f1-score   support\n",
      "\n",
      "           0       0.87      0.96      0.91     12435\n",
      "           1       0.80      0.53      0.64      3846\n",
      "\n",
      "    accuracy                           0.86     16281\n",
      "   macro avg       0.83      0.74      0.77     16281\n",
      "weighted avg       0.85      0.86      0.85     16281\n",
      "\n"
     ]
    }
   ],
   "source": [
    "print(f\"ROC-AUC: {roc_auc_score(y_test, proba_test):.4f}\")\n",
    "print(classification_report(y_test, pred_test))"
   ]
  },
  {
   "attachments": {},
   "cell_type": "markdown",
   "metadata": {},
   "source": [
    "### Previsão de exemplo\n",
    "\n",
    "Para utilizar em caso de teste, vamos realizar a previsão de um exemplo. Porém em cenários reais, é recomendado a utilização de vários exemplos como casos de teste.\n"
   ]
  },
  {
   "cell_type": "code",
   "execution_count": 14,
   "metadata": {},
   "outputs": [
    {
     "data": {
      "text/plain": [
       "native_country              Peru\n",
       "marital_status     Never-married\n",
       "sex                         Male\n",
       "capital_gain                   0\n",
       "capital_loss                   0\n",
       "hours_per_week                43\n",
       "age                           25\n",
       "education_num                 13\n",
       "Name: 23, dtype: object"
      ]
     },
     "execution_count": 14,
     "metadata": {},
     "output_type": "execute_result"
    }
   ],
   "source": [
    "input_columns_raw = [\"native_country\", \"marital_status\", \"sex\",\n",
    "                    \"capital_gain\", \"capital_loss\", \"hours_per_week\",\n",
    "                    \"age\", \"education_num\"]\n",
    "id_num = 23\n",
    "dataset_test.iloc[id_num,:][input_columns_raw]"
   ]
  },
  {
   "cell_type": "code",
   "execution_count": 15,
   "metadata": {},
   "outputs": [
    {
     "data": {
      "text/plain": [
       "native_usa               0\n",
       "native_latin_america     1\n",
       "native_europe            0\n",
       "native_asia              0\n",
       "is_male                  1\n",
       "is_married               0\n",
       "hours_per_week          43\n",
       "age                     25\n",
       "education_num           13\n",
       "capital_gain             0\n",
       "capital_loss             0\n",
       "Name: 23, dtype: int64"
      ]
     },
     "execution_count": 15,
     "metadata": {},
     "output_type": "execute_result"
    }
   ],
   "source": [
    "X_test.iloc[id_num, :]"
   ]
  },
  {
   "cell_type": "code",
   "execution_count": 16,
   "metadata": {},
   "outputs": [
    {
     "name": "stdout",
     "output_type": "stream",
     "text": [
      "Income > 50k prediction: 0\n",
      "Income > 50k prediction probability: 0.05645205977672475\n"
     ]
    }
   ],
   "source": [
    "prediction_example = best_rf.predict(X_test.iloc[id_num].to_frame().T)[0]\n",
    "prediction_proba_example = best_rf.predict_proba(X_test.iloc[id_num].to_frame().T)[0,1]\n",
    "print(f\"Income > 50k prediction: {prediction_example}\")\n",
    "print(f\"Income > 50k prediction probability: {prediction_proba_example}\")"
   ]
  },
  {
   "attachments": {},
   "cell_type": "markdown",
   "metadata": {},
   "source": [
    "## Salvando modelo"
   ]
  },
  {
   "cell_type": "code",
   "execution_count": 21,
   "metadata": {},
   "outputs": [],
   "source": [
    "model_path = Path.cwd().parents[0]/'model'/'model.joblib'\n",
    "_ = joblib.dump(best_rf, filename=model_path)"
   ]
  }
 ],
 "metadata": {
  "language_info": {
   "name": "python"
  },
  "orig_nbformat": 4
 },
 "nbformat": 4,
 "nbformat_minor": 2
}
